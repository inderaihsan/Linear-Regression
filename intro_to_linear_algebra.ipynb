{
  "nbformat": 4,
  "nbformat_minor": 0,
  "metadata": {
    "colab": {
      "provenance": [],
      "authorship_tag": "ABX9TyM8imVM2gNP4gOjMDO6aOxX",
      "include_colab_link": true
    },
    "kernelspec": {
      "name": "python3",
      "display_name": "Python 3"
    },
    "language_info": {
      "name": "python"
    }
  },
  "cells": [
    {
      "cell_type": "markdown",
      "metadata": {
        "id": "view-in-github",
        "colab_type": "text"
      },
      "source": [
        "<a href=\"https://colab.research.google.com/github/inderaihsan/Linear-Regression/blob/main/intro_to_linear_algebra.ipynb\" target=\"_parent\"><img src=\"https://colab.research.google.com/assets/colab-badge.svg\" alt=\"Open In Colab\"/></a>"
      ]
    },
    {
      "cell_type": "code",
      "execution_count": 12,
      "metadata": {
        "id": "gnZS4pmEeCJE"
      },
      "outputs": [],
      "source": [
        "import tensorflow as tf\n",
        "import torch \n",
        "import numpy as np"
      ]
    },
    {
      "cell_type": "markdown",
      "source": [
        "scalar, vector, matrix, tensor"
      ],
      "metadata": {
        "id": "YuUfCX2Gf9yS"
      }
    },
    {
      "cell_type": "code",
      "source": [
        "scalar = 25\n",
        "vector = [20,21,22,23,24,25] \n",
        "matric = [[2,3,4], \n",
        "          [2,5,8], \n",
        "          [2,9,7]]  \n",
        "tensor = torch.tensor(matric) "
      ],
      "metadata": {
        "id": "LntZS4wdgBz9"
      },
      "execution_count": 8,
      "outputs": []
    },
    {
      "cell_type": "markdown",
      "source": [
        "in depth with vector"
      ],
      "metadata": {
        "id": "IQ4-Wdi6qXjq"
      }
    },
    {
      "cell_type": "markdown",
      "source": [
        "seeing the tensor"
      ],
      "metadata": {
        "id": "jGsBMAIHgko6"
      }
    },
    {
      "cell_type": "code",
      "source": [
        "#vector in numpy  \n",
        "matric = [25, 2, 5]\n",
        "npy = np.array(matric) \n",
        "#vector in pytorch \n",
        "trc = torch.tensor(matric) \n",
        "#vector in tensorflow \n",
        "tflow = tf.Variable(matric)\n",
        "\n",
        "npy"
      ],
      "metadata": {
        "colab": {
          "base_uri": "https://localhost:8080/"
        },
        "id": "5fCmSA8pgXLn",
        "outputId": "2c25cc46-d6a7-4a6f-dff1-6c2204d08aa1"
      },
      "execution_count": 27,
      "outputs": [
        {
          "output_type": "execute_result",
          "data": {
            "text/plain": [
              "array([25,  2,  5])"
            ]
          },
          "metadata": {},
          "execution_count": 27
        }
      ]
    },
    {
      "cell_type": "markdown",
      "source": [
        "Vector Norms are defined as a set of functions that take a vector as an input and output a positive value against it. This is called the magnitude of a vector. We can obtain different lengths for the same vector depending on the type of function we use to calculate the magnitude."
      ],
      "metadata": {
        "id": "DSF8pQgozB-e"
      }
    },
    {
      "cell_type": "markdown",
      "source": [
        "Norms in vector"
      ],
      "metadata": {
        "id": "T1KrQTxZsCwb"
      }
    },
    {
      "cell_type": "markdown",
      "source": [
        "Calculating the size or length of a vector is often required either directly or as part of a broader vector or vector-matrix operation.\n",
        "\n",
        "The length of the vector is referred to as the vector norm or the vector’s magnitude.\n",
        "\n",
        "The length of a vector is a nonnegative number that describes the extent of the vector in space, and is sometimes referred to as the vector’s magnitude or the norm."
      ],
      "metadata": {
        "id": "ytEqTxoFsLLK"
      }
    },
    {
      "cell_type": "markdown",
      "source": [
        "Euclidean Distance of a vector ($L^2$)"
      ],
      "metadata": {
        "id": "A_gm0JYLqz1o"
      }
    },
    {
      "cell_type": "markdown",
      "source": [
        "making function"
      ],
      "metadata": {
        "id": "l6Yq_uYlrkV3"
      }
    },
    {
      "cell_type": "code",
      "source": [
        "def L2norm(matrix) : \n",
        "  result = 0\n",
        "  for elements in matrix : \n",
        "    result = result + elements**2 \n",
        "  return result**0.5 \n",
        "L2norm([1,2,3]) "
      ],
      "metadata": {
        "colab": {
          "base_uri": "https://localhost:8080/"
        },
        "id": "3UNG2Mfrq3UY",
        "outputId": "cb0bdfd0-6b66-4bde-f0bc-5dfabb1ea2e0"
      },
      "execution_count": 75,
      "outputs": [
        {
          "output_type": "execute_result",
          "data": {
            "text/plain": [
              "3.7416573867739413"
            ]
          },
          "metadata": {},
          "execution_count": 75
        }
      ]
    },
    {
      "cell_type": "markdown",
      "source": [
        "using numpy"
      ],
      "metadata": {
        "id": "k8WJafZhrl27"
      }
    },
    {
      "cell_type": "code",
      "source": [
        "np.linalg.norm(matric)"
      ],
      "metadata": {
        "colab": {
          "base_uri": "https://localhost:8080/"
        },
        "id": "Fd_7QVaTroAS",
        "outputId": "e3954d62-5a2f-4163-cd1d-b56f2ceb404a"
      },
      "execution_count": 31,
      "outputs": [
        {
          "output_type": "execute_result",
          "data": {
            "text/plain": [
              "25.573423705088842"
            ]
          },
          "metadata": {},
          "execution_count": 31
        }
      ]
    },
    {
      "cell_type": "markdown",
      "source": [
        "$L^1$ Norm"
      ],
      "metadata": {
        "id": "jpVNNr_NuBFO"
      }
    },
    {
      "cell_type": "markdown",
      "source": [
        "the sum of all absolute elements in the matrix, used when the zeo or non zero position is the key"
      ],
      "metadata": {
        "id": "a6svX675uJ6x"
      }
    },
    {
      "cell_type": "code",
      "source": [
        "def L1norm(matrix) : \n",
        "  result = 0 \n",
        "  for elements in matrix : \n",
        "    result = result + np.abs(elements) \n",
        "  return result \n",
        "L1norm(npy)"
      ],
      "metadata": {
        "colab": {
          "base_uri": "https://localhost:8080/"
        },
        "id": "v5AVeIT3uJST",
        "outputId": "57a07dae-b569-4188-d938-27f1df0c0f62"
      },
      "execution_count": 34,
      "outputs": [
        {
          "output_type": "execute_result",
          "data": {
            "text/plain": [
              "32"
            ]
          },
          "metadata": {},
          "execution_count": 34
        }
      ]
    },
    {
      "cell_type": "markdown",
      "source": [
        "Squared $L^2$"
      ],
      "metadata": {
        "id": "-wUhvZ3UwTXS"
      }
    },
    {
      "cell_type": "code",
      "source": [
        "np.sum([x for x in n py*npy.T])"
      ],
      "metadata": {
        "colab": {
          "base_uri": "https://localhost:8080/"
        },
        "id": "hK2oESvFu2Yh",
        "outputId": "48aacc8e-16ba-4342-bb5f-a1964891b8d0"
      },
      "execution_count": 40,
      "outputs": [
        {
          "output_type": "execute_result",
          "data": {
            "text/plain": [
              "654"
            ]
          },
          "metadata": {},
          "execution_count": 40
        }
      ]
    },
    {
      "cell_type": "code",
      "source": [
        "np.dot(npy,npy)"
      ],
      "metadata": {
        "colab": {
          "base_uri": "https://localhost:8080/"
        },
        "id": "fY0PIdHu000l",
        "outputId": "33e90ae7-25c7-4cec-bdf8-0932d47b31f5"
      },
      "execution_count": 55,
      "outputs": [
        {
          "output_type": "execute_result",
          "data": {
            "text/plain": [
              "654"
            ]
          },
          "metadata": {},
          "execution_count": 55
        }
      ]
    },
    {
      "cell_type": "markdown",
      "source": [
        "Max norm returns the maximum of every absolute value of every elements in the vector"
      ],
      "metadata": {
        "id": "ZOOkj4Tp1QkF"
      }
    },
    {
      "cell_type": "code",
      "source": [
        "def maxnorm (matrix) : \n",
        "  return np.max([np.abs(elements) for elements in matrix])"
      ],
      "metadata": {
        "id": "jvU5IIlSzeBA"
      },
      "execution_count": 56,
      "outputs": []
    },
    {
      "cell_type": "markdown",
      "source": [
        "Generalized $L^p$ norm"
      ],
      "metadata": {
        "id": "efuxQJtH2D-T"
      }
    },
    {
      "cell_type": "code",
      "source": [
        "def generalizednorm(matrix, p) : \n",
        "  # p must be a real number and greater than or equal to one \n",
        "  p = int(p) \n",
        "  if p>=1 : \n",
        "    return (np.sum(np.abs(elements)**p for elements in matrix))**1/p  \n",
        "  else :  \n",
        "    return \"please enter p > 1\""
      ],
      "metadata": {
        "id": "AP9sbFJdzvVU"
      },
      "execution_count": 71,
      "outputs": []
    },
    {
      "cell_type": "code",
      "source": [
        "generalizednorm([1,2,3,4],2)"
      ],
      "metadata": {
        "colab": {
          "base_uri": "https://localhost:8080/"
        },
        "id": "_nmbai022ly4",
        "outputId": "e1370c04-858a-4146-b5cf-85717cd94bbb"
      },
      "execution_count": 73,
      "outputs": [
        {
          "output_type": "stream",
          "name": "stderr",
          "text": [
            "/usr/local/lib/python3.7/dist-packages/ipykernel_launcher.py:5: DeprecationWarning: Calling np.sum(generator) is deprecated, and in the future will give a different result. Use np.sum(np.fromiter(generator)) or the python sum builtin instead.\n",
            "  \"\"\"\n"
          ]
        },
        {
          "output_type": "execute_result",
          "data": {
            "text/plain": [
              "15.0"
            ]
          },
          "metadata": {},
          "execution_count": 73
        }
      ]
    }
  ]
}