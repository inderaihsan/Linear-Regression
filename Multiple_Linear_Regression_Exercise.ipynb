{
  "nbformat": 4,
  "nbformat_minor": 0,
  "metadata": {
    "kernelspec": {
      "display_name": "Python 3",
      "language": "python",
      "name": "python3"
    },
    "language_info": {
      "codemirror_mode": {
        "name": "ipython",
        "version": 3
      },
      "file_extension": ".py",
      "mimetype": "text/x-python",
      "name": "python",
      "nbconvert_exporter": "python",
      "pygments_lexer": "ipython3",
      "version": "3.6.4"
    },
    "colab": {
      "name": "Multiple Linear Regression Exercise.ipynb",
      "provenance": [],
      "toc_visible": true,
      "include_colab_link": true
    }
  },
  "cells": [
    {
      "cell_type": "markdown",
      "metadata": {
        "id": "view-in-github",
        "colab_type": "text"
      },
      "source": [
        "<a href=\"https://colab.research.google.com/github/inderaihsan/Linear-Regression/blob/main/Multiple_Linear_Regression_Exercise.ipynb\" target=\"_parent\"><img src=\"https://colab.research.google.com/assets/colab-badge.svg\" alt=\"Open In Colab\"/></a>"
      ]
    },
    {
      "cell_type": "markdown",
      "metadata": {
        "id": "1mPKXGtl_VW1"
      },
      "source": [
        "# Multiple Linear Regression - Exercise"
      ]
    },
    {
      "cell_type": "markdown",
      "metadata": {
        "id": "MDp48WnC_VW6"
      },
      "source": [
        "You are given a real estate dataset. \n",
        "\n",
        "Real estate is one of those examples that every regression course goes through as it is extremely easy to understand and there is a (almost always) certain causal relationship to be found.\n",
        "\n",
        "The data is located in the file: 'real_estate_price_size_year.csv'. \n",
        "\n",
        "You are expected to create a multiple linear regression (similar to the one in the lecture), using the new data. \n",
        "\n",
        "In this exercise, the dependent variable is 'price', while the independent variables are 'size' and 'year'.\n",
        "\n",
        "Good luck!"
      ]
    },
    {
      "cell_type": "markdown",
      "metadata": {
        "id": "YmkuRNfC_VW7"
      },
      "source": [
        "## Import the relevant libraries"
      ]
    },
    {
      "cell_type": "code",
      "metadata": {
        "colab": {
          "base_uri": "https://localhost:8080/"
        },
        "id": "dcysIZCO_VW8",
        "outputId": "bbb45dd4-7690-43fe-aa29-fdc8a0faaac4"
      },
      "source": [
        "import pandas as pd\r\n",
        "import numpy as np \r\n",
        "import statsmodels.api as sm\r\n",
        "import seaborn as sns\r\n",
        "import matplotlib.pyplot as plt "
      ],
      "execution_count": 1,
      "outputs": [
        {
          "output_type": "stream",
          "text": [
            "/usr/local/lib/python3.6/dist-packages/statsmodels/tools/_testing.py:19: FutureWarning: pandas.util.testing is deprecated. Use the functions in the public API at pandas.testing instead.\n",
            "  import pandas.util.testing as tm\n"
          ],
          "name": "stderr"
        }
      ]
    },
    {
      "cell_type": "markdown",
      "metadata": {
        "id": "aElG-4GR_VW9"
      },
      "source": [
        "## Load the data"
      ]
    },
    {
      "cell_type": "code",
      "metadata": {
        "id": "5Bw4vHau_VW9"
      },
      "source": [
        "df=pd.read_csv('real_estate_price_size_year.csv')"
      ],
      "execution_count": 2,
      "outputs": []
    },
    {
      "cell_type": "code",
      "metadata": {
        "colab": {
          "base_uri": "https://localhost:8080/",
          "height": 287
        },
        "id": "lm-zKMKh_VW-",
        "outputId": "6637e0be-240c-43ca-a908-206fe2b884a5"
      },
      "source": [
        "df.describe()"
      ],
      "execution_count": 3,
      "outputs": [
        {
          "output_type": "execute_result",
          "data": {
            "text/html": [
              "<div>\n",
              "<style scoped>\n",
              "    .dataframe tbody tr th:only-of-type {\n",
              "        vertical-align: middle;\n",
              "    }\n",
              "\n",
              "    .dataframe tbody tr th {\n",
              "        vertical-align: top;\n",
              "    }\n",
              "\n",
              "    .dataframe thead th {\n",
              "        text-align: right;\n",
              "    }\n",
              "</style>\n",
              "<table border=\"1\" class=\"dataframe\">\n",
              "  <thead>\n",
              "    <tr style=\"text-align: right;\">\n",
              "      <th></th>\n",
              "      <th>price</th>\n",
              "      <th>size</th>\n",
              "      <th>year</th>\n",
              "    </tr>\n",
              "  </thead>\n",
              "  <tbody>\n",
              "    <tr>\n",
              "      <th>count</th>\n",
              "      <td>100.000000</td>\n",
              "      <td>100.000000</td>\n",
              "      <td>100.000000</td>\n",
              "    </tr>\n",
              "    <tr>\n",
              "      <th>mean</th>\n",
              "      <td>292289.470160</td>\n",
              "      <td>853.024200</td>\n",
              "      <td>2012.600000</td>\n",
              "    </tr>\n",
              "    <tr>\n",
              "      <th>std</th>\n",
              "      <td>77051.727525</td>\n",
              "      <td>297.941951</td>\n",
              "      <td>4.729021</td>\n",
              "    </tr>\n",
              "    <tr>\n",
              "      <th>min</th>\n",
              "      <td>154282.128000</td>\n",
              "      <td>479.750000</td>\n",
              "      <td>2006.000000</td>\n",
              "    </tr>\n",
              "    <tr>\n",
              "      <th>25%</th>\n",
              "      <td>234280.148000</td>\n",
              "      <td>643.330000</td>\n",
              "      <td>2009.000000</td>\n",
              "    </tr>\n",
              "    <tr>\n",
              "      <th>50%</th>\n",
              "      <td>280590.716000</td>\n",
              "      <td>696.405000</td>\n",
              "      <td>2015.000000</td>\n",
              "    </tr>\n",
              "    <tr>\n",
              "      <th>75%</th>\n",
              "      <td>335723.696000</td>\n",
              "      <td>1029.322500</td>\n",
              "      <td>2018.000000</td>\n",
              "    </tr>\n",
              "    <tr>\n",
              "      <th>max</th>\n",
              "      <td>500681.128000</td>\n",
              "      <td>1842.510000</td>\n",
              "      <td>2018.000000</td>\n",
              "    </tr>\n",
              "  </tbody>\n",
              "</table>\n",
              "</div>"
            ],
            "text/plain": [
              "               price         size         year\n",
              "count     100.000000   100.000000   100.000000\n",
              "mean   292289.470160   853.024200  2012.600000\n",
              "std     77051.727525   297.941951     4.729021\n",
              "min    154282.128000   479.750000  2006.000000\n",
              "25%    234280.148000   643.330000  2009.000000\n",
              "50%    280590.716000   696.405000  2015.000000\n",
              "75%    335723.696000  1029.322500  2018.000000\n",
              "max    500681.128000  1842.510000  2018.000000"
            ]
          },
          "metadata": {
            "tags": []
          },
          "execution_count": 3
        }
      ]
    },
    {
      "cell_type": "code",
      "metadata": {
        "colab": {
          "base_uri": "https://localhost:8080/"
        },
        "id": "VNPwf-gO_VW-",
        "outputId": "c683cb8b-af40-4de3-fb80-523abd56ae5d"
      },
      "source": [
        "df.info()"
      ],
      "execution_count": 4,
      "outputs": [
        {
          "output_type": "stream",
          "text": [
            "<class 'pandas.core.frame.DataFrame'>\n",
            "RangeIndex: 100 entries, 0 to 99\n",
            "Data columns (total 3 columns):\n",
            " #   Column  Non-Null Count  Dtype  \n",
            "---  ------  --------------  -----  \n",
            " 0   price   100 non-null    float64\n",
            " 1   size    100 non-null    float64\n",
            " 2   year    100 non-null    int64  \n",
            "dtypes: float64(2), int64(1)\n",
            "memory usage: 2.5 KB\n"
          ],
          "name": "stdout"
        }
      ]
    },
    {
      "cell_type": "code",
      "metadata": {
        "colab": {
          "base_uri": "https://localhost:8080/",
          "height": 137
        },
        "id": "1JsymPBx_9tD",
        "outputId": "ba0b9ff2-7666-46a6-f5d0-b6d982017cb5"
      },
      "source": [
        "df.corr()"
      ],
      "execution_count": 5,
      "outputs": [
        {
          "output_type": "execute_result",
          "data": {
            "text/html": [
              "<div>\n",
              "<style scoped>\n",
              "    .dataframe tbody tr th:only-of-type {\n",
              "        vertical-align: middle;\n",
              "    }\n",
              "\n",
              "    .dataframe tbody tr th {\n",
              "        vertical-align: top;\n",
              "    }\n",
              "\n",
              "    .dataframe thead th {\n",
              "        text-align: right;\n",
              "    }\n",
              "</style>\n",
              "<table border=\"1\" class=\"dataframe\">\n",
              "  <thead>\n",
              "    <tr style=\"text-align: right;\">\n",
              "      <th></th>\n",
              "      <th>price</th>\n",
              "      <th>size</th>\n",
              "      <th>year</th>\n",
              "    </tr>\n",
              "  </thead>\n",
              "  <tbody>\n",
              "    <tr>\n",
              "      <th>price</th>\n",
              "      <td>1.000000</td>\n",
              "      <td>0.862983</td>\n",
              "      <td>0.093014</td>\n",
              "    </tr>\n",
              "    <tr>\n",
              "      <th>size</th>\n",
              "      <td>0.862983</td>\n",
              "      <td>1.000000</td>\n",
              "      <td>-0.097678</td>\n",
              "    </tr>\n",
              "    <tr>\n",
              "      <th>year</th>\n",
              "      <td>0.093014</td>\n",
              "      <td>-0.097678</td>\n",
              "      <td>1.000000</td>\n",
              "    </tr>\n",
              "  </tbody>\n",
              "</table>\n",
              "</div>"
            ],
            "text/plain": [
              "          price      size      year\n",
              "price  1.000000  0.862983  0.093014\n",
              "size   0.862983  1.000000 -0.097678\n",
              "year   0.093014 -0.097678  1.000000"
            ]
          },
          "metadata": {
            "tags": []
          },
          "execution_count": 5
        }
      ]
    },
    {
      "cell_type": "markdown",
      "metadata": {
        "id": "KXuS5Gom_VW-"
      },
      "source": [
        "## Create the regression"
      ]
    },
    {
      "cell_type": "markdown",
      "metadata": {
        "id": "PGT-sGpd_VW_"
      },
      "source": [
        "### Declare the dependent and the independent variables"
      ]
    },
    {
      "cell_type": "code",
      "metadata": {
        "id": "V579dsI8_VW_"
      },
      "source": [
        "y=df['price'] \r\n",
        "x1=df[['size','year']]"
      ],
      "execution_count": 7,
      "outputs": []
    },
    {
      "cell_type": "markdown",
      "metadata": {
        "id": "aATchH6E_VW_"
      },
      "source": [
        "### Regression"
      ]
    },
    {
      "cell_type": "code",
      "metadata": {
        "colab": {
          "base_uri": "https://localhost:8080/",
          "height": 438
        },
        "id": "dxSmkaVI_VW_",
        "outputId": "3fd2acb7-b1ae-4119-9951-a664d7037039"
      },
      "source": [
        "x=sm.add_constant(x1)\r\n",
        "regression=sm.OLS(y,x).fit()   \r\n",
        "regression.summary()"
      ],
      "execution_count": 9,
      "outputs": [
        {
          "output_type": "execute_result",
          "data": {
            "text/html": [
              "<table class=\"simpletable\">\n",
              "<caption>OLS Regression Results</caption>\n",
              "<tr>\n",
              "  <th>Dep. Variable:</th>          <td>price</td>      <th>  R-squared:         </th> <td>   0.776</td>\n",
              "</tr>\n",
              "<tr>\n",
              "  <th>Model:</th>                   <td>OLS</td>       <th>  Adj. R-squared:    </th> <td>   0.772</td>\n",
              "</tr>\n",
              "<tr>\n",
              "  <th>Method:</th>             <td>Least Squares</td>  <th>  F-statistic:       </th> <td>   168.5</td>\n",
              "</tr>\n",
              "<tr>\n",
              "  <th>Date:</th>             <td>Tue, 26 Jan 2021</td> <th>  Prob (F-statistic):</th> <td>2.77e-32</td>\n",
              "</tr>\n",
              "<tr>\n",
              "  <th>Time:</th>                 <td>18:43:27</td>     <th>  Log-Likelihood:    </th> <td> -1191.7</td>\n",
              "</tr>\n",
              "<tr>\n",
              "  <th>No. Observations:</th>      <td>   100</td>      <th>  AIC:               </th> <td>   2389.</td>\n",
              "</tr>\n",
              "<tr>\n",
              "  <th>Df Residuals:</th>          <td>    97</td>      <th>  BIC:               </th> <td>   2397.</td>\n",
              "</tr>\n",
              "<tr>\n",
              "  <th>Df Model:</th>              <td>     2</td>      <th>                     </th>     <td> </td>   \n",
              "</tr>\n",
              "<tr>\n",
              "  <th>Covariance Type:</th>      <td>nonrobust</td>    <th>                     </th>     <td> </td>   \n",
              "</tr>\n",
              "</table>\n",
              "<table class=\"simpletable\">\n",
              "<tr>\n",
              "    <td></td>       <th>coef</th>     <th>std err</th>      <th>t</th>      <th>P>|t|</th>  <th>[0.025</th>    <th>0.975]</th>  \n",
              "</tr>\n",
              "<tr>\n",
              "  <th>const</th> <td>-5.772e+06</td> <td> 1.58e+06</td> <td>   -3.647</td> <td> 0.000</td> <td>-8.91e+06</td> <td>-2.63e+06</td>\n",
              "</tr>\n",
              "<tr>\n",
              "  <th>size</th>  <td>  227.7009</td> <td>   12.474</td> <td>   18.254</td> <td> 0.000</td> <td>  202.943</td> <td>  252.458</td>\n",
              "</tr>\n",
              "<tr>\n",
              "  <th>year</th>  <td> 2916.7853</td> <td>  785.896</td> <td>    3.711</td> <td> 0.000</td> <td> 1357.000</td> <td> 4476.571</td>\n",
              "</tr>\n",
              "</table>\n",
              "<table class=\"simpletable\">\n",
              "<tr>\n",
              "  <th>Omnibus:</th>       <td>10.083</td> <th>  Durbin-Watson:     </th> <td>   2.250</td>\n",
              "</tr>\n",
              "<tr>\n",
              "  <th>Prob(Omnibus):</th> <td> 0.006</td> <th>  Jarque-Bera (JB):  </th> <td>   3.678</td>\n",
              "</tr>\n",
              "<tr>\n",
              "  <th>Skew:</th>          <td> 0.095</td> <th>  Prob(JB):          </th> <td>   0.159</td>\n",
              "</tr>\n",
              "<tr>\n",
              "  <th>Kurtosis:</th>      <td> 2.080</td> <th>  Cond. No.          </th> <td>9.41e+05</td>\n",
              "</tr>\n",
              "</table><br/><br/>Warnings:<br/>[1] Standard Errors assume that the covariance matrix of the errors is correctly specified.<br/>[2] The condition number is large, 9.41e+05. This might indicate that there are<br/>strong multicollinearity or other numerical problems."
            ],
            "text/plain": [
              "<class 'statsmodels.iolib.summary.Summary'>\n",
              "\"\"\"\n",
              "                            OLS Regression Results                            \n",
              "==============================================================================\n",
              "Dep. Variable:                  price   R-squared:                       0.776\n",
              "Model:                            OLS   Adj. R-squared:                  0.772\n",
              "Method:                 Least Squares   F-statistic:                     168.5\n",
              "Date:                Tue, 26 Jan 2021   Prob (F-statistic):           2.77e-32\n",
              "Time:                        18:43:27   Log-Likelihood:                -1191.7\n",
              "No. Observations:                 100   AIC:                             2389.\n",
              "Df Residuals:                      97   BIC:                             2397.\n",
              "Df Model:                           2                                         \n",
              "Covariance Type:            nonrobust                                         \n",
              "==============================================================================\n",
              "                 coef    std err          t      P>|t|      [0.025      0.975]\n",
              "------------------------------------------------------------------------------\n",
              "const      -5.772e+06   1.58e+06     -3.647      0.000   -8.91e+06   -2.63e+06\n",
              "size         227.7009     12.474     18.254      0.000     202.943     252.458\n",
              "year        2916.7853    785.896      3.711      0.000    1357.000    4476.571\n",
              "==============================================================================\n",
              "Omnibus:                       10.083   Durbin-Watson:                   2.250\n",
              "Prob(Omnibus):                  0.006   Jarque-Bera (JB):                3.678\n",
              "Skew:                           0.095   Prob(JB):                        0.159\n",
              "Kurtosis:                       2.080   Cond. No.                     9.41e+05\n",
              "==============================================================================\n",
              "\n",
              "Warnings:\n",
              "[1] Standard Errors assume that the covariance matrix of the errors is correctly specified.\n",
              "[2] The condition number is large, 9.41e+05. This might indicate that there are\n",
              "strong multicollinearity or other numerical problems.\n",
              "\"\"\""
            ]
          },
          "metadata": {
            "tags": []
          },
          "execution_count": 9
        }
      ]
    },
    {
      "cell_type": "code",
      "metadata": {
        "colab": {
          "base_uri": "https://localhost:8080/",
          "height": 282
        },
        "id": "D9X9vZzEApAG",
        "outputId": "e11f978b-d02b-4484-c11f-b10926c5ee95"
      },
      "source": [
        "plt.scatter(y,df['size']) "
      ],
      "execution_count": 22,
      "outputs": [
        {
          "output_type": "execute_result",
          "data": {
            "text/plain": [
              "<matplotlib.collections.PathCollection at 0x7f084a5d02e8>"
            ]
          },
          "metadata": {
            "tags": []
          },
          "execution_count": 22
        },
        {
          "output_type": "display_data",
          "data": {
            "image/png": "[encoded data removed]",
            "text/plain": [
              "<Figure size 432x288 with 1 Axes>"
            ]
          },
          "metadata": {
            "tags": [],
            "needs_background": "light"
          }
        }
      ]
    }
  ]
}